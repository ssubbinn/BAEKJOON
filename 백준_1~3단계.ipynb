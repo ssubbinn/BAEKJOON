{
  "nbformat": 4,
  "nbformat_minor": 0,
  "metadata": {
    "colab": {
      "provenance": [],
      "authorship_tag": "ABX9TyOUtsj/Prs058JmF2yEcS+y",
      "include_colab_link": true
    },
    "kernelspec": {
      "name": "python3",
      "display_name": "Python 3"
    },
    "language_info": {
      "name": "python"
    }
  },
  "cells": [
    {
      "cell_type": "markdown",
      "metadata": {
        "id": "view-in-github",
        "colab_type": "text"
      },
      "source": [
        "<a href=\"https://colab.research.google.com/github/ssubbinn/BAEKJOON/blob/main/%EB%B0%B1%EC%A4%80_1~3%EB%8B%A8%EA%B3%84.ipynb\" target=\"_parent\"><img src=\"https://colab.research.google.com/assets/colab-badge.svg\" alt=\"Open In Colab\"/></a>"
      ]
    },
    {
      "cell_type": "markdown",
      "source": [
        "### 1단계\n",
        "- Hello World!를 출력하시오."
      ],
      "metadata": {
        "id": "4ByudIw_xvFj"
      }
    },
    {
      "cell_type": "code",
      "source": [
        "print(\"Hello World!\")"
      ],
      "metadata": {
        "colab": {
          "base_uri": "https://localhost:8080/"
        },
        "id": "1iPc54tHxyww",
        "outputId": "f71eb32c-55e7-4f4a-8282-98132fbd420d"
      },
      "execution_count": null,
      "outputs": [
        {
          "output_type": "stream",
          "name": "stdout",
          "text": [
            "Hello World!\n"
          ]
        }
      ]
    },
    {
      "cell_type": "markdown",
      "source": [
        "- 두 정수 A와 B를 입력받은 다음, A+B를 출력하는 프로그램을 작성하시오.\n"
      ],
      "metadata": {
        "id": "ELk51XAkyA9L"
      }
    },
    {
      "cell_type": "code",
      "source": [
        "a,b= map(int, input().split())\n",
        "print(a+b)"
      ],
      "metadata": {
        "colab": {
          "base_uri": "https://localhost:8080/"
        },
        "id": "N1XpQSi9x1e1",
        "outputId": "720216c4-736d-419a-c4de-d776b34dbce6"
      },
      "execution_count": null,
      "outputs": [
        {
          "output_type": "stream",
          "name": "stdout",
          "text": [
            "1 5\n",
            "6\n"
          ]
        }
      ]
    },
    {
      "cell_type": "markdown",
      "source": [
        "- 두 정수 A와 B를 입력받은 다음, A-B를 출력하는 프로그램을 작성하시오."
      ],
      "metadata": {
        "id": "08W1WcMe1Ko0"
      }
    },
    {
      "cell_type": "code",
      "source": [
        "a,b= map(int, input().split())\n",
        "print(a-b)"
      ],
      "metadata": {
        "colab": {
          "base_uri": "https://localhost:8080/"
        },
        "id": "rFYiVTKj04WD",
        "outputId": "901d3079-3a7f-4afe-ac2b-0961fd69f569"
      },
      "execution_count": null,
      "outputs": [
        {
          "output_type": "stream",
          "name": "stdout",
          "text": [
            "6 2\n",
            "4\n"
          ]
        }
      ]
    },
    {
      "cell_type": "code",
      "source": [
        "a,b= map(int, input().split())\n",
        "print(a*b)"
      ],
      "metadata": {
        "colab": {
          "base_uri": "https://localhost:8080/"
        },
        "id": "f-QO7zLF1N4F",
        "outputId": "ed8a913d-a14d-4d67-d8eb-e098bbc7926f"
      },
      "execution_count": null,
      "outputs": [
        {
          "output_type": "stream",
          "name": "stdout",
          "text": [
            "1 3\n",
            "3\n"
          ]
        }
      ]
    },
    {
      "cell_type": "code",
      "source": [
        "a,b= map(int, input().split())\n",
        "print(a+b)\n",
        "print(a-b)\n",
        "print(a*b)\n",
        "print(a//b)\n",
        "print(a%b)"
      ],
      "metadata": {
        "colab": {
          "base_uri": "https://localhost:8080/"
        },
        "id": "C05c9eU11aB8",
        "outputId": "5313bb41-4d7f-41ec-bfe1-7246577f3b20"
      },
      "execution_count": null,
      "outputs": [
        {
          "output_type": "stream",
          "name": "stdout",
          "text": [
            "7 3 \n",
            "10\n",
            "4\n",
            "21\n",
            "2\n",
            "1\n"
          ]
        }
      ]
    },
    {
      "cell_type": "markdown",
      "source": [
        "- 준하는 사이트에 회원가입을 하다가 joonas라는 아이디가 이미 존재하는 것을 보고 놀랐다. 준하는 놀람을 ??!로 표현한다. 준하가 가입하려고 하는 사이트에 이미 존재하는 아이디가 주어졌을 때, 놀람을 표현하는 프로그램을 작성하시오."
      ],
      "metadata": {
        "id": "fa0SdMZD2kFH"
      }
    },
    {
      "cell_type": "code",
      "source": [
        "id=input(\"\")\n",
        "print(id+\"??!\")"
      ],
      "metadata": {
        "colab": {
          "base_uri": "https://localhost:8080/"
        },
        "id": "JAjpMQbc1mrj",
        "outputId": "ca45c08a-ce6f-4b40-84ec-4356e338ca8b"
      },
      "execution_count": null,
      "outputs": [
        {
          "output_type": "stream",
          "name": "stdout",
          "text": [
            "hello\n",
            "hello??!\n"
          ]
        }
      ]
    },
    {
      "cell_type": "markdown",
      "source": [
        "- ICPC Bangkok Regional에 참가하기 위해 수완나품 국제공항에 막 도착한 팀 레드시프트 일행은 눈을 믿을 수 없었다. 공항의 대형 스크린에 올해가 2562년이라고 적혀 있던 것이었다. 불교 국가인 태국은 불멸기원(佛滅紀元), 즉 석가모니가 열반한 해를 기준으로 연도를 세는 불기를 사용한다. 반면, 우리나라는 서기 연도를 사용하고 있다. 불기 연도가 주어질 때 이를 서기 연도로 바꿔 주는 프로그램을 작성하시오."
      ],
      "metadata": {
        "id": "UMI6WqyJ2obS"
      }
    },
    {
      "cell_type": "code",
      "source": [
        "year = int(input())\n",
        "print(year-543)"
      ],
      "metadata": {
        "colab": {
          "base_uri": "https://localhost:8080/"
        },
        "id": "cZKgucT22eNV",
        "outputId": "2e88c4f7-f779-48c4-fecd-21098fcc5f21"
      },
      "execution_count": null,
      "outputs": [
        {
          "output_type": "stream",
          "name": "stdout",
          "text": [
            "2541\n",
            "1998\n"
          ]
        }
      ]
    },
    {
      "cell_type": "code",
      "source": [
        "2541-1998"
      ],
      "metadata": {
        "colab": {
          "base_uri": "https://localhost:8080/"
        },
        "id": "GGUgXKf324lB",
        "outputId": "00c024b1-1f9a-45b5-f998-7409f69eada8"
      },
      "execution_count": null,
      "outputs": [
        {
          "output_type": "execute_result",
          "data": {
            "text/plain": [
              "543"
            ]
          },
          "metadata": {},
          "execution_count": 12
        }
      ]
    },
    {
      "cell_type": "markdown",
      "source": [
        "(A+B)%C는 ((A%C) + (B%C))%C 와 같을까?\n",
        "\n",
        "(A×B)%C는 ((A%C) × (B%C))%C 와 같을까?\n",
        "\n",
        "세 수 A, B, C가 주어졌을 때, 위의 네 가지 값을 구하는 프로그램을 작성하시오."
      ],
      "metadata": {
        "id": "4kecG_VP3QlH"
      }
    },
    {
      "cell_type": "code",
      "source": [
        "a,b,c = map(int, input().split())\n",
        "print((a+b)%c)"
      ],
      "metadata": {
        "colab": {
          "base_uri": "https://localhost:8080/"
        },
        "id": "A2rbGfyo25zH",
        "outputId": "014e53ef-e7f9-4144-8d69-899a65599ebc"
      },
      "execution_count": null,
      "outputs": [
        {
          "output_type": "stream",
          "name": "stdout",
          "text": [
            "5 8 4\n",
            "1\n"
          ]
        }
      ]
    },
    {
      "cell_type": "markdown",
      "source": [
        "- 곱셈"
      ],
      "metadata": {
        "id": "Xk-CkI-k3sQy"
      }
    },
    {
      "cell_type": "code",
      "source": [
        "a,b = map(int, input().split())\n",
        "b_first = b%10\n",
        "b_second = (b%100)//10\n",
        "b_third = b//100\n",
        "print(a*b_first)\n",
        "print(a*b_second)\n",
        "print(a*b_third)\n",
        "print(a*b_first+a*b_second*10+a*b_third*100)"
      ],
      "metadata": {
        "colab": {
          "base_uri": "https://localhost:8080/"
        },
        "id": "SxVKsykW3eup",
        "outputId": "1c00e919-17f4-44c1-8fd1-ac3231dba6c4"
      },
      "execution_count": null,
      "outputs": [
        {
          "output_type": "stream",
          "name": "stdout",
          "text": [
            "472 385\n",
            "2360\n",
            "3776\n",
            "1416\n",
            "181720\n"
          ]
        }
      ]
    },
    {
      "cell_type": "markdown",
      "source": [
        "- 꼬마 정민이는 이제 A + B 정도는 쉽게 계산할 수 있다. 이제 A + B + C를 계산할 차례이다!"
      ],
      "metadata": {
        "id": "VeJogehU5fpH"
      }
    },
    {
      "cell_type": "code",
      "source": [
        "a,b,c = map(int, input().split())\n",
        "print(a+b+c)"
      ],
      "metadata": {
        "colab": {
          "base_uri": "https://localhost:8080/"
        },
        "id": "Xa5I50i637GE",
        "outputId": "196211d4-cdd7-45f6-8788-2beb434f5526"
      },
      "execution_count": null,
      "outputs": [
        {
          "output_type": "stream",
          "name": "stdout",
          "text": [
            "77 77 7777\n",
            "7931\n"
          ]
        }
      ]
    },
    {
      "cell_type": "markdown",
      "source": [
        "### 2단계\n",
        "- 두 정수 A와 B가 주어졌을 때, A와 B를 비교하는 프로그램을 작성하시오."
      ],
      "metadata": {
        "id": "aggn4nww1YHO"
      }
    },
    {
      "cell_type": "code",
      "source": [
        "a,b = map(int,input().split())\n",
        "if a<b:\n",
        "  print (\"<\")\n",
        "elif a>b:\n",
        "  print (\">\")\n",
        "else:\n",
        "  print (\"==\")"
      ],
      "metadata": {
        "id": "CJU3oObt5jIl",
        "colab": {
          "base_uri": "https://localhost:8080/"
        },
        "outputId": "e95dd660-4c80-45bf-bb9c-63c35fd2e015"
      },
      "execution_count": 2,
      "outputs": [
        {
          "output_type": "stream",
          "name": "stdout",
          "text": [
            "1 2\n",
            "<\n"
          ]
        }
      ]
    },
    {
      "cell_type": "markdown",
      "source": [
        "- 시험 점수를 입력받아 90 ~ 100점은 A, 80 ~ 89점은 B, 70 ~ 79점은 C, 60 ~ 69점은 D, 나머지 점수는 F를 출력하는 프로그램을 작성하시오."
      ],
      "metadata": {
        "id": "g6Mjvb4M2CjL"
      }
    },
    {
      "cell_type": "code",
      "source": [
        "score = int(input())\n",
        "\n",
        "if 90 <= score <= 100:\n",
        "    print(\"A\")\n",
        "elif 80 <= score < 90:\n",
        "    print(\"B\")\n",
        "elif 70 <= score < 80:\n",
        "    print(\"C\")\n",
        "elif 60 <= score < 70:\n",
        "    print(\"D\")\n",
        "else:\n",
        "    print(\"F\")\n"
      ],
      "metadata": {
        "colab": {
          "base_uri": "https://localhost:8080/"
        },
        "id": "FVdLJuZm19Hn",
        "outputId": "14617787-457a-4fdf-cbbf-017732e45b65"
      },
      "execution_count": 8,
      "outputs": [
        {
          "output_type": "stream",
          "name": "stdout",
          "text": [
            "86\n",
            "B\n"
          ]
        }
      ]
    },
    {
      "cell_type": "markdown",
      "source": [
        "- 연도가 주어졌을 때, 윤년이면 1, 아니면 0을 출력하는 프로그램을 작성하시오. 윤년은 연도가 4의 배수이면서, 100의 배수가 아닐 때 또는 400의 배수일 때이다. 예를 들어, 2012년은 4의 배수이면서 100의 배수가 아니라서 윤년이다. 1900년은 100의 배수이고 400의 배수는 아니기 때문에 윤년이 아니다. 하지만, 2000년은 400의 배수이기 때문에 윤년이다."
      ],
      "metadata": {
        "id": "ESV6FT2B9Rot"
      }
    },
    {
      "cell_type": "code",
      "source": [
        "year = int(input())\n",
        "if (year // 4 ==0 and year // 100 != 0) or (year % 400 == 0):\n",
        "  print (1)\n",
        "else :\n",
        "    print (0)\n"
      ],
      "metadata": {
        "colab": {
          "base_uri": "https://localhost:8080/"
        },
        "id": "MflYZxjB2GZG",
        "outputId": "6bce5b23-bba9-46da-e4dd-79427d5ebd9e"
      },
      "execution_count": 11,
      "outputs": [
        {
          "output_type": "stream",
          "name": "stdout",
          "text": [
            "2020\n",
            "0\n"
          ]
        }
      ]
    },
    {
      "cell_type": "markdown",
      "source": [
        "- 점의 좌표를 입력받아 그 점이 어느 사분면에 속하는지 알아내는 프로그램을 작성하시오. 단, x좌표와 y좌표는 모두 양수나 음수라고 가정한다."
      ],
      "metadata": {
        "id": "wWwu6sa1-FPU"
      }
    },
    {
      "cell_type": "code",
      "source": [
        "a,b = map(int,input().split())\n",
        "if a>0 and b>0 :\n",
        "  print (1)\n",
        "if a<0 and b>0 :\n",
        "  print (2)\n",
        "if a<0 and b<0 :\n",
        "  print (3)\n",
        "if a>0 and b<0 :\n",
        "  print(4)"
      ],
      "metadata": {
        "colab": {
          "base_uri": "https://localhost:8080/"
        },
        "id": "WdNkv6TQ99sz",
        "outputId": "96536fa2-8d0b-491c-a9e1-0a415231723e"
      },
      "execution_count": 13,
      "outputs": [
        {
          "output_type": "stream",
          "name": "stdout",
          "text": [
            "12 5\n",
            "1\n"
          ]
        }
      ]
    },
    {
      "cell_type": "markdown",
      "source": [
        "- 이 방법은 단순하다. 원래 설정되어 있는 알람을 45분 앞서는 시간으로 바꾸는 것이다. 어차피 알람 소리를 들으면, 알람을 끄고 조금 더 잘 것이기 때문이다. 이 방법을 사용하면, 매일 아침 더 잤다는 기분을 느낄 수 있고, 학교도 지각하지 않게 된다.\n",
        "\n",
        "현재 상근이가 설정한 알람 시각이 주어졌을 때, 창영이의 방법을 사용한다면, 이를 언제로 고쳐야 하는지 구하는 프로그램을 작성하시오."
      ],
      "metadata": {
        "id": "qUs4Y6Hc-kgX"
      }
    },
    {
      "cell_type": "code",
      "source": [
        "H,M = map(int,input().split())"
      ],
      "metadata": {
        "id": "ZjMOLCdH-qBh"
      },
      "execution_count": null,
      "outputs": []
    },
    {
      "cell_type": "markdown",
      "source": [
        "- 훈제오리구이를 시작하는 시각과 오븐구이를 하는 데 필요한 시간이 분단위로 주어졌을 때, 오븐구이가 끝나는 시각을 계산하는 프로그램을 작성하시오."
      ],
      "metadata": {
        "id": "ywA1AfZsA0_9"
      }
    },
    {
      "cell_type": "code",
      "source": [
        "a,b = map(int,input().split())\n",
        "c = int(input())\n",
        "\n",
        "a += c//60 # 시간\n",
        "b += c%60 # 분\n",
        "\n",
        "if b >= 60 :\n",
        "    a += 1\n",
        "    b -= 60\n",
        "if a >= 24 :\n",
        "    a -= 24\n",
        "\n",
        "print('{} {}'.format(a, b))"
      ],
      "metadata": {
        "colab": {
          "base_uri": "https://localhost:8080/"
        },
        "id": "0Q9xLAR1A3BV",
        "outputId": "af6c9f7a-bffa-4c80-c510-a76848a061b6"
      },
      "execution_count": 17,
      "outputs": [
        {
          "output_type": "stream",
          "name": "stdout",
          "text": [
            "14 50\n",
            "30\n",
            "15 20\n"
          ]
        }
      ]
    },
    {
      "cell_type": "code",
      "source": [
        "a,b,c = map(int,input().split())\n",
        "z=[a,b,c]\n",
        "if a==b and b==c:\n",
        "  print(10000+a*1000)\n",
        "elif a!=b and b!=c and a!=c:\n",
        "  print(max(z)*100)\n",
        "else:\n",
        "  if (a==b and b!=c) or (a==c and c!=b):\n",
        "    print(1000+a*100)\n",
        "  if a!=b and b==c:\n",
        "    print(1000+b*100)"
      ],
      "metadata": {
        "colab": {
          "base_uri": "https://localhost:8080/"
        },
        "id": "8OSplAuRB8QI",
        "outputId": "8f97a422-a048-4733-f449-b8b9c777cb81"
      },
      "execution_count": 18,
      "outputs": [
        {
          "output_type": "stream",
          "name": "stdout",
          "text": [
            "6 6 6\n",
            "16000\n"
          ]
        }
      ]
    },
    {
      "cell_type": "markdown",
      "source": [
        "### 3단계\n",
        "- N을 입력받은 뒤, 구구단 N단을 출력하는 프로그램을 작성하시오. 출력 형식에 맞춰서 출력하면 된다."
      ],
      "metadata": {
        "id": "V7_a1l8fCqLH"
      }
    },
    {
      "cell_type": "code",
      "source": [
        "a = int(input())\n",
        "for i in range(1,10):\n",
        "  print (a,\"*\",i,\"=\", a*i)"
      ],
      "metadata": {
        "colab": {
          "base_uri": "https://localhost:8080/"
        },
        "id": "RJEFI1tFCtOE",
        "outputId": "75b07006-c4c2-4698-8e22-11ddab18f058"
      },
      "execution_count": 25,
      "outputs": [
        {
          "output_type": "stream",
          "name": "stdout",
          "text": [
            "2\n",
            "2 * 1 = 2\n",
            "2 * 2 = 4\n",
            "2 * 3 = 6\n",
            "2 * 4 = 8\n",
            "2 * 5 = 10\n",
            "2 * 6 = 12\n",
            "2 * 7 = 14\n",
            "2 * 8 = 16\n",
            "2 * 9 = 18\n"
          ]
        }
      ]
    },
    {
      "cell_type": "markdown",
      "source": [
        "- 두 정수 A와 B를 입력받은 다음, A+B를 출력하는 프로그램을 작성하시오."
      ],
      "metadata": {
        "id": "8Act-fnPIMTr"
      }
    },
    {
      "cell_type": "code",
      "source": [
        "T=int(input())\n",
        "for i in range(T):\n",
        "  a,b = map(int, input().split())\n",
        "  print(a+b)"
      ],
      "metadata": {
        "colab": {
          "base_uri": "https://localhost:8080/"
        },
        "id": "yApE29kMIM3v",
        "outputId": "34b2dadc-a311-44b2-aa2a-72c5dd12f59f"
      },
      "execution_count": 26,
      "outputs": [
        {
          "output_type": "stream",
          "name": "stdout",
          "text": [
            "5\n",
            "1 1\n",
            "2\n",
            "2 3 \n",
            "5\n",
            "3 4\n",
            "7\n",
            "9 8\n",
            "17\n",
            "5 2\n",
            "7\n"
          ]
        }
      ]
    },
    {
      "cell_type": "markdown",
      "source": [
        "- n이 주어졌을 때, 1부터 n까지 합을 구하는 프로그램을 작성하시오."
      ],
      "metadata": {
        "id": "L3y0lTJSLVHS"
      }
    },
    {
      "cell_type": "code",
      "source": [
        "n = int(input())\n",
        "a=0\n",
        "for i in range(n+1):\n",
        "  a+=i\n",
        "print(a)"
      ],
      "metadata": {
        "colab": {
          "base_uri": "https://localhost:8080/"
        },
        "id": "11pCjVLDHv6Z",
        "outputId": "ab89e073-eaaa-474b-ded1-ce6c1d60964c"
      },
      "execution_count": 29,
      "outputs": [
        {
          "output_type": "stream",
          "name": "stdout",
          "text": [
            "3\n",
            "6\n"
          ]
        }
      ]
    },
    {
      "cell_type": "markdown",
      "source": [
        "첫째 줄에는 영수증에 적힌 총 금액\n",
        "$X$가 주어진다.\n",
        "\n",
        "둘째 줄에는 영수증에 적힌 구매한 물건의 종류의 수\n",
        "$N$이 주어진다.\n",
        "\n",
        "이후\n",
        "$N$개의 줄에는 각 물건의 가격\n",
        "$a$와 개수\n",
        "$b$가 공백을 사이에 두고 주어진다."
      ],
      "metadata": {
        "id": "Cpm2byhML8gu"
      }
    },
    {
      "cell_type": "code",
      "source": [
        "X = int(input())\n",
        "N = int(input())\n",
        "\n",
        "price = 0\n",
        "for i in range(N):\n",
        "  a,b = map(int, input().split())\n",
        "  price+= a*b\n",
        "\n",
        "if price==X:\n",
        "  print(\"Yes\")\n",
        "else:\n",
        "  print(\"No\")"
      ],
      "metadata": {
        "colab": {
          "base_uri": "https://localhost:8080/"
        },
        "id": "MdVzdvXCL_4B",
        "outputId": "8e21af17-2241-4eee-b0ce-ce0fdf67518a"
      },
      "execution_count": 31,
      "outputs": [
        {
          "output_type": "stream",
          "name": "stdout",
          "text": [
            "260000\n",
            "4\n",
            "20000 5\n",
            "30000 2\n",
            "10000 6\n",
            "5000 8\n",
            "1 2\n",
            "No\n"
          ]
        }
      ]
    },
    {
      "cell_type": "markdown",
      "source": [
        "- 각 테스트 케이스마다 \"Case #x: \"를 출력한 다음, A+B를 출력한다. 테스트 케이스 번호는 1부터 시작한다."
      ],
      "metadata": {
        "id": "uT2mlQj-ObPN"
      }
    },
    {
      "cell_type": "code",
      "source": [
        "T=int(input())\n",
        "for i in range(T):\n",
        "  a,b = map(int, input().split())\n",
        "  print(\"Case #\", i+1, \":\",a+b)"
      ],
      "metadata": {
        "colab": {
          "base_uri": "https://localhost:8080/"
        },
        "id": "NcT0e8APLs8X",
        "outputId": "cda48955-b22a-44a6-f4ac-720d1507edff"
      },
      "execution_count": 33,
      "outputs": [
        {
          "output_type": "stream",
          "name": "stdout",
          "text": [
            "2\n",
            "1 1\n",
            "Case # 1 : 2\n",
            "1 3\n",
            "Case # 2 : 4\n"
          ]
        }
      ]
    },
    {
      "cell_type": "markdown",
      "source": [
        "- 각 테스트 케이스마다 \"Case #x: A + B = C\" 형식으로 출력한다. x는 테스트 케이스 번호이고 1부터 시작하며, C는 A+B이다."
      ],
      "metadata": {
        "id": "tnSdhbv7OzTM"
      }
    },
    {
      "cell_type": "code",
      "source": [
        "T=int(input())\n",
        "for i in range(T):\n",
        "  a,b = map(int, input().split())\n",
        "  print(\"Case #\",i+1, \":\",a,\"+\",b, \"=\",a+b)"
      ],
      "metadata": {
        "colab": {
          "base_uri": "https://localhost:8080/"
        },
        "id": "1afJJQs_Opdz",
        "outputId": "7afcab05-6574-466a-c88d-420f21a5fb5f"
      },
      "execution_count": 36,
      "outputs": [
        {
          "output_type": "stream",
          "name": "stdout",
          "text": [
            "2\n",
            "1 1\n",
            "Case # 1 : 1 + 1 = 2\n",
            "5 8\n",
            "Case # 2 : 5 + 8 = 13\n"
          ]
        }
      ]
    },
    {
      "cell_type": "markdown",
      "source": [
        "- 첫째 줄부터 N번째 줄까지 차례대로 별을 출력한다."
      ],
      "metadata": {
        "id": "rUY-0xddPShr"
      }
    },
    {
      "cell_type": "code",
      "source": [
        "a = int(input())\n",
        "for i in range(a+1):\n",
        "  print (\"*\"*i)"
      ],
      "metadata": {
        "colab": {
          "base_uri": "https://localhost:8080/"
        },
        "id": "sDSPggHNPEHP",
        "outputId": "bd096ea5-4b18-4f1b-8792-b3eb2eaffdd4"
      },
      "execution_count": 39,
      "outputs": [
        {
          "output_type": "stream",
          "name": "stdout",
          "text": [
            "3\n",
            "\n",
            "*\n",
            "**\n",
            "***\n"
          ]
        }
      ]
    },
    {
      "cell_type": "markdown",
      "source": [
        "- 오른쪽 정렬"
      ],
      "metadata": {
        "id": "hX1kNWbiPtKf"
      }
    },
    {
      "cell_type": "code",
      "source": [
        "a = int(input())\n",
        "for i in range(a+1):\n",
        "  print (\" \"*(a-i), \"*\"*i)"
      ],
      "metadata": {
        "colab": {
          "base_uri": "https://localhost:8080/"
        },
        "id": "ArT5KYJZPlYv",
        "outputId": "542a6779-a799-476c-ccd7-a5805d103e25"
      },
      "execution_count": 40,
      "outputs": [
        {
          "output_type": "stream",
          "name": "stdout",
          "text": [
            "5\n",
            "      \n",
            "     *\n",
            "    **\n",
            "   ***\n",
            "  ****\n",
            " *****\n"
          ]
        }
      ]
    },
    {
      "cell_type": "code",
      "source": [
        "while True:\n",
        "    a, b = map(int, input().split())\n",
        "    if (a == 0) & (b == 0):\n",
        "        break\n",
        "    else:\n",
        "        print(a+b)"
      ],
      "metadata": {
        "colab": {
          "base_uri": "https://localhost:8080/"
        },
        "id": "vDvFhkR-P8-F",
        "outputId": "558168e1-7384-4224-d59b-31b2b443da1a"
      },
      "execution_count": 42,
      "outputs": [
        {
          "name": "stdout",
          "output_type": "stream",
          "text": [
            "1 1\n",
            "2\n",
            "2 3\n",
            "5\n",
            "0 0\n"
          ]
        }
      ]
    },
    {
      "cell_type": "code",
      "source": [],
      "metadata": {
        "id": "uWwyKFVcQD7F"
      },
      "execution_count": null,
      "outputs": []
    }
  ]
}