{
  "nbformat": 4,
  "nbformat_minor": 0,
  "metadata": {
    "colab": {
      "provenance": [],
      "authorship_tag": "ABX9TyPc+w0Nh7qbZFAJOKc+mD1p",
      "include_colab_link": true
    },
    "kernelspec": {
      "name": "python3",
      "display_name": "Python 3"
    },
    "language_info": {
      "name": "python"
    }
  },
  "cells": [
    {
      "cell_type": "markdown",
      "metadata": {
        "id": "view-in-github",
        "colab_type": "text"
      },
      "source": [
        "<a href=\"https://colab.research.google.com/github/ssubbinn/BAEKJOON/blob/main/STEP_2.ipynb\" target=\"_parent\"><img src=\"https://colab.research.google.com/assets/colab-badge.svg\" alt=\"Open In Colab\"/></a>"
      ]
    },
    {
      "cell_type": "markdown",
      "source": [
        "## 1\n",
        "두 정수 A와 B가 주어졌을 때, A와 B를 비교하는 프로그램을 작성하시오."
      ],
      "metadata": {
        "id": "iUz-SdEfr7vZ"
      }
    },
    {
      "cell_type": "code",
      "source": [
        "a,b = map(int,input().split())\n",
        "if a<b:\n",
        "  print (\"<\")\n",
        "elif a>b:\n",
        "  print (\">\")\n",
        "else:\n",
        "  print (\"==\")"
      ],
      "metadata": {
        "colab": {
          "base_uri": "https://localhost:8080/"
        },
        "id": "0s_Ww9B_sASJ",
        "outputId": "bd5fdbc6-6947-4dbb-874d-5267ba239910"
      },
      "execution_count": 2,
      "outputs": [
        {
          "output_type": "stream",
          "name": "stdout",
          "text": [
            "5 5\n",
            "==\n"
          ]
        }
      ]
    },
    {
      "cell_type": "markdown",
      "source": [
        "## 2\n",
        "\n",
        "시험 점수를 입력받아 90 ~ 100점은 A, 80 ~ 89점은 B, 70 ~ 79점은 C, 60 ~ 69점은 D, 나머지 점수는 F를 출력하는 프로그램을 작성하시오."
      ],
      "metadata": {
        "id": "Nf-WffgatDCq"
      }
    },
    {
      "cell_type": "code",
      "source": [
        "score = int(input())\n",
        "if score >=90 and score <=100:\n",
        "  print(\"A\")\n",
        "elif score >=80 and score <=89:\n",
        "  print(\"B\")\n",
        "elif score >=70 and score <=79:\n",
        "  print(\"C\")\n",
        "elif score >=60 and score <=69:\n",
        "  print(\"D\")\n",
        "else:\n",
        "  print (\"F\")"
      ],
      "metadata": {
        "colab": {
          "base_uri": "https://localhost:8080/"
        },
        "id": "FoWNxs1JtJQB",
        "outputId": "13a8d324-cd04-43b1-fabd-6b3ddee34949"
      },
      "execution_count": 4,
      "outputs": [
        {
          "output_type": "stream",
          "name": "stdout",
          "text": [
            "75\n",
            "C\n"
          ]
        }
      ]
    },
    {
      "cell_type": "markdown",
      "source": [
        "## 3\n",
        "연도가 주어졌을 때, 윤년이면 1, 아니면 0을 출력하는 프로그램을 작성하시오.\n",
        "\n",
        "윤년은 연도가 4의 배수이면서, 100의 배수가 아닐 때 또는 400의 배수일 때이다.\n",
        "\n",
        "예를 들어, 2012년은 4의 배수이면서 100의 배수가 아니라서 윤년이다. 1900년은 100의 배수이고 400의 배수는 아니기 때문에 윤년이 아니다. 하지만, 2000년은 400의 배수이기 때문에 윤년이다."
      ],
      "metadata": {
        "id": "4iE0Q3-JuO4p"
      }
    },
    {
      "cell_type": "code",
      "source": [
        "year = int(input())\n",
        "if year%4==0 and year%100!=0:\n",
        "  print(\"1\")\n",
        "elif year%400==0:\n",
        "  print(\"1\")\n",
        "else:\n",
        "  print(\"0\")"
      ],
      "metadata": {
        "colab": {
          "base_uri": "https://localhost:8080/"
        },
        "id": "Owy6k_44uB49",
        "outputId": "baf268fb-cc08-414f-c8f9-b47348e24bf2"
      },
      "execution_count": 5,
      "outputs": [
        {
          "output_type": "stream",
          "name": "stdout",
          "text": [
            "1999\n",
            "0\n"
          ]
        }
      ]
    },
    {
      "cell_type": "markdown",
      "source": [
        "## 4\n",
        "점의 좌표를 입력받아 그 점이 어느 사분면에 속하는지 알아내는 프로그램을 작성하시오. 단, x좌표와 y좌표는 모두 양수나 음수라고 가정한다."
      ],
      "metadata": {
        "id": "zx20VmdKu638"
      }
    },
    {
      "cell_type": "code",
      "source": [
        "x=int(input())\n",
        "y=int(input())\n",
        "\n",
        "if x > 0 and y > 0:\n",
        "  print(\"1\")\n",
        "elif x < 0 and y > 0:\n",
        "  print(\"2\")\n",
        "elif x < 0 and y < 0:\n",
        "  print(\"3\")\n",
        "elif x > 0 and y < 0:\n",
        "  print(\"4\")"
      ],
      "metadata": {
        "colab": {
          "base_uri": "https://localhost:8080/"
        },
        "id": "2GkiC40Pu1E6",
        "outputId": "48638e4c-d821-4b1a-cfcc-1007db39f4af"
      },
      "execution_count": 6,
      "outputs": [
        {
          "output_type": "stream",
          "name": "stdout",
          "text": [
            "12\n",
            "5\n",
            "1\n"
          ]
        }
      ]
    },
    {
      "cell_type": "markdown",
      "source": [
        "## 5 **\n",
        "\n",
        "상근이는 매일 아침 알람을 듣고 일어난다. 알람을 듣고 바로 일어나면 다행이겠지만, 항상 조금만 더 자려는 마음 때문에 매일 학교를 지각하고 있다.\n",
        "\n",
        "상근이는 모든 방법을 동원해보았지만, 조금만 더 자려는 마음은 그 어떤 것도 없앨 수가 없었다.\n",
        "\n",
        "이런 상근이를 불쌍하게 보던, 창영이는 자신이 사용하는 방법을 추천해 주었다.\n",
        "\n",
        "바로 \"45분 일찍 알람 설정하기\"이다.\n",
        "\n",
        "이 방법은 단순하다. 원래 설정되어 있는 알람을 45분 앞서는 시간으로 바꾸는 것이다. 어차피 알람 소리를 들으면, 알람을 끄고 조금 더 잘 것이기 때문이다. 이 방법을 사용하면, 매일 아침 더 잤다는 기분을 느낄 수 있고, 학교도 지각하지 않게 된다.\n",
        "\n",
        "현재 상근이가 설정한 알람 시각이 주어졌을 때, 창영이의 방법을 사용한다면, 이를 언제로 고쳐야 하는지 구하는 프로그램을 작성하시오."
      ],
      "metadata": {
        "id": "5UbE9DT-wil9"
      }
    },
    {
      "cell_type": "code",
      "source": [
        "h,m = map(int,input().split())\n",
        "\n",
        "if m < 45:\n",
        "    m += 15\n",
        "    if h == 0:\n",
        "        h = 23\n",
        "    else:\n",
        "        h -= 1\n",
        "else:\n",
        "    m -= 45\n",
        "\n",
        "print(h, m)"
      ],
      "metadata": {
        "colab": {
          "base_uri": "https://localhost:8080/"
        },
        "id": "wXIiXEA0wjxo",
        "outputId": "864f7cb2-bfb7-4ce7-fe54-821819796793"
      },
      "execution_count": 7,
      "outputs": [
        {
          "output_type": "stream",
          "name": "stdout",
          "text": [
            "10 10\n",
            "9 25\n"
          ]
        }
      ]
    },
    {
      "cell_type": "markdown",
      "source": [
        "## 6 **\n",
        "\n",
        "KOI 전자에서는 건강에 좋고 맛있는 훈제오리구이 요리를 간편하게 만드는 인공지능 오븐을 개발하려고 한다. 인공지능 오븐을 사용하는 방법은 적당한 양의 오리 훈제 재료를 인공지능 오븐에 넣으면 된다. 그러면 인공지능 오븐은 오븐구이가 끝나는 시간을 분 단위로 자동적으로 계산한다. \n",
        "\n",
        "또한, KOI 전자의 인공지능 오븐 앞면에는 사용자에게 훈제오리구이 요리가 끝나는 시각을 알려 주는 디지털 시계가 있다. \n",
        "\n",
        "훈제오리구이를 시작하는 시각과 오븐구이를 하는 데 필요한 시간이 분단위로 주어졌을 때, 오븐구이가 끝나는 시각을 계산하는 프로그램을 작성하시오."
      ],
      "metadata": {
        "id": "70bIvSyOxygX"
      }
    },
    {
      "cell_type": "code",
      "source": [
        "a,b = map(int,input().split())\n",
        "c = int(input())\n",
        "\n",
        "a += c//60 # 시간\n",
        "b += c%60 # 분\n",
        "\n",
        "if b >= 60 :\n",
        "    a += 1\n",
        "    b -= 60\n",
        "if a >= 24 :\n",
        "    a -= 24\n",
        "    \n",
        "print('{} {}'.format(a, b))"
      ],
      "metadata": {
        "colab": {
          "base_uri": "https://localhost:8080/"
        },
        "id": "xWBPTLCsx3bE",
        "outputId": "642ad32a-1843-4d2d-a5f1-bbe83a0e8d56"
      },
      "execution_count": 9,
      "outputs": [
        {
          "output_type": "stream",
          "name": "stdout",
          "text": [
            "14 30\n",
            "20\n",
            "14 50\n"
          ]
        }
      ]
    },
    {
      "cell_type": "markdown",
      "source": [
        "## 7\n",
        "1에서부터 6까지의 눈을 가진 3개의 주사위를 던져서 다음과 같은 규칙에 따라 상금을 받는 게임이 있다. \n",
        "\n",
        "1 . 같은 눈이 3개가 나오면 10,000원+(같은 눈)×1,000원의 상금을 받게 된다. \n",
        "2. 같은 눈이 2개만 나오는 경우에는 1,000원+(같은 눈)×100원의 상금을 받게 된다. \n",
        "3. 모두 다른 눈이 나오는 경우에는 (그 중 가장 큰 눈)×100원의 상금을 받게 된다.  \n",
        "\n",
        "예를 들어, 3개의 눈 3, 3, 6이 주어지면 상금은 1,000+3×100으로 계산되어 1,300원을 받게 된다. 또 3개의 눈이 2, 2, 2로 주어지면 10,000+2×1,000 으로 계산되어 12,000원을 받게 된다. 3개의 눈이 6, 2, 5로 주어지면 그중 가장 큰 값이 6이므로 6×100으로 계산되어 600원을 상금으로 받게 된다.\n",
        "\n",
        "3개 주사위의 나온 눈이 주어질 때, 상금을 계산하는 프로그램을 작성 하시오."
      ],
      "metadata": {
        "id": "VZMqSgKWzUZf"
      }
    },
    {
      "cell_type": "code",
      "source": [
        "a,b,c = map(int,input().split())\n",
        "z=[a,b,c]\n",
        "if a==b and b==c:\n",
        "  print(10000+a*1000)\n",
        "elif a!=b and b!=c and a!=c:\n",
        "  print(max(z)*100)\n",
        "else:\n",
        "  if (a==b and b!=c) or (a==c and c!=b):\n",
        "    print(1000+a*100)\n",
        "  if a!=b and b==c:\n",
        "    print(1000+b*100)"
      ],
      "metadata": {
        "colab": {
          "base_uri": "https://localhost:8080/"
        },
        "id": "iRQBMHxNy_qQ",
        "outputId": "444c277e-cd57-45b2-e509-dd72b07f9d0c"
      },
      "execution_count": 22,
      "outputs": [
        {
          "output_type": "stream",
          "name": "stdout",
          "text": [
            "3 6 3\n",
            "1300\n"
          ]
        }
      ]
    }
  ]
}