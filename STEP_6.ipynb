{
  "nbformat": 4,
  "nbformat_minor": 0,
  "metadata": {
    "colab": {
      "provenance": [],
      "authorship_tag": "ABX9TyNoAAFNeDO1ThsFpO1IJLTx",
      "include_colab_link": true
    },
    "kernelspec": {
      "name": "python3",
      "display_name": "Python 3"
    },
    "language_info": {
      "name": "python"
    }
  },
  "cells": [
    {
      "cell_type": "markdown",
      "metadata": {
        "id": "view-in-github",
        "colab_type": "text"
      },
      "source": [
        "<a href=\"https://colab.research.google.com/github/ssubbinn/BAEKJOON/blob/main/STEP_6.ipynb\" target=\"_parent\"><img src=\"https://colab.research.google.com/assets/colab-badge.svg\" alt=\"Open In Colab\"/></a>"
      ]
    },
    {
      "cell_type": "markdown",
      "source": [
        "## 1\n",
        "알파벳 소문자, 대문자, 숫자 0-9중 하나가 주어졌을 때, 주어진 글자의 아스키 코드값을 출력하는 프로그램을 작성하시오."
      ],
      "metadata": {
        "id": "Z_AA0924Q_yT"
      }
    },
    {
      "cell_type": "code",
      "source": [
        "print(ord(input())) # ord 아스키코드 출력해주는 함수"
      ],
      "metadata": {
        "colab": {
          "base_uri": "https://localhost:8080/"
        },
        "id": "GbsBPFd4RD32",
        "outputId": "0e92576f-50e9-4514-ba3a-9658a646e6a2"
      },
      "execution_count": null,
      "outputs": [
        {
          "output_type": "stream",
          "name": "stdout",
          "text": [
            "A\n",
            "65\n"
          ]
        }
      ]
    },
    {
      "cell_type": "markdown",
      "source": [
        "## 2\n",
        "\n",
        "\n",
        "N개의 숫자가 공백 없이 쓰여있다. 이 숫자를 모두 합해서 출력하는 프로그램을 작성하시오.\n",
        "\n"
      ],
      "metadata": {
        "id": "O0MHkCJJRXCJ"
      }
    },
    {
      "cell_type": "code",
      "source": [
        "N= int(input())\n",
        "\n",
        "print(sum(map(int,input()))) #map함수로 각 자리의 수를 int 타입으로 변환"
      ],
      "metadata": {
        "colab": {
          "base_uri": "https://localhost:8080/"
        },
        "id": "o8CJSqrGS2ZW",
        "outputId": "81267649-d4d8-4356-81d4-c00f65274ff5"
      },
      "execution_count": null,
      "outputs": [
        {
          "output_type": "stream",
          "name": "stdout",
          "text": [
            "1\n",
            "54321\n",
            "15\n"
          ]
        }
      ]
    },
    {
      "cell_type": "markdown",
      "source": [
        "## 3\n",
        "알파벳 소문자로만 이루어진 단어 S가 주어진다. 각각의 알파벳에 대해서, 단어에 포함되어 있는 경우에는 처음 등장하는 위치를, 포함되어 있지 않은 경우에는 -1을 출력하는 프로그램을 작성하시오."
      ],
      "metadata": {
        "id": "8OBVHvyCTXm6"
      }
    },
    {
      "cell_type": "code",
      "source": [
        "S= input()\n",
        "\n",
        "import string\n",
        "alpha=list(string.ascii_lowercase) #list로 하면 문자 분리\n",
        "\n",
        "for x in alpha :\n",
        "    print(S.find(x)) "
      ],
      "metadata": {
        "colab": {
          "base_uri": "https://localhost:8080/"
        },
        "id": "S3AjhpRKT9mp",
        "outputId": "f5394650-3c98-480e-ba28-41602e9952d1"
      },
      "execution_count": null,
      "outputs": [
        {
          "output_type": "stream",
          "name": "stdout",
          "text": [
            "baekjoon\n",
            "1\n",
            "0\n",
            "-1\n",
            "-1\n",
            "2\n",
            "-1\n",
            "-1\n",
            "-1\n",
            "-1\n",
            "4\n",
            "3\n",
            "-1\n",
            "-1\n",
            "7\n",
            "5\n",
            "-1\n",
            "-1\n",
            "-1\n",
            "-1\n",
            "-1\n",
            "-1\n",
            "-1\n",
            "-1\n",
            "-1\n",
            "-1\n",
            "-1\n"
          ]
        }
      ]
    },
    {
      "cell_type": "code",
      "source": [
        "word = input()\n",
        "alphabet = list(range(97,123))  # 아스키코드 숫자 범위\n",
        "\n",
        "for x in alphabet :\n",
        "    print(word.find(chr(x)))  #chr(x)로 숫자->문자열로 변환"
      ],
      "metadata": {
        "id": "g7s5NS1b916c"
      },
      "execution_count": null,
      "outputs": []
    },
    {
      "cell_type": "markdown",
      "source": [
        "## 4\n",
        "문자열 S를 입력받은 후에, 각 문자를 R번 반복해 새 문자열 P를 만든 후 출력하는 프로그램을 작성하시오. 즉, 첫 번째 문자를 R번 반복하고, 두 번째 문자를 R번 반복하는 식으로 P를 만들면 된다. S에는 QR Code \"alphanumeric\" 문자만 들어있다.\n",
        "\n",
        "QR Code \"alphanumeric\" 문자는 0123456789ABCDEFGHIJKLMNOPQRSTUVWXYZ\\$%*+-./: 이다."
      ],
      "metadata": {
        "id": "AKHMR9xt94z2"
      }
    },
    {
      "cell_type": "code",
      "source": [
        "T=int(input())\n",
        "\n",
        "for i in range(T):\n",
        "  R, S= input().split() # 문자, 숫자 상관없이 사용가능\n",
        "  for x in S:\n",
        "      print(x*int(R), end='')  # end='' 옆으로 붙임\n",
        "  print()  # 줄넘김"
      ],
      "metadata": {
        "colab": {
          "base_uri": "https://localhost:8080/"
        },
        "id": "IJ13hJjJ-Ux8",
        "outputId": "87450c77-215c-45ce-d455-a4ddb12f8372"
      },
      "execution_count": null,
      "outputs": [
        {
          "output_type": "stream",
          "name": "stdout",
          "text": [
            "2\n",
            "3 ABC\n",
            "AAABBBCCC\n",
            "5 /HTP\n",
            "/////HHHHHTTTTTPPPPP\n"
          ]
        }
      ]
    },
    {
      "cell_type": "markdown",
      "source": [
        "## 5 **\n",
        "알파벳 대소문자로 된 단어가 주어지면, 이 단어에서 가장 많이 사용된 알파벳이 무엇인지 알아내는 프로그램을 작성하시오. 단, 대문자와 소문자를 구분하지 않는다."
      ],
      "metadata": {
        "id": "lV4-bSX2_Owr"
      }
    },
    {
      "cell_type": "code",
      "source": [
        "string.ascii_uppercase"
      ],
      "metadata": {
        "colab": {
          "base_uri": "https://localhost:8080/",
          "height": 35
        },
        "id": "vaVAKMHn_ABu",
        "outputId": "6ee777f0-11b2-41ef-940f-54a8682be8b2"
      },
      "execution_count": null,
      "outputs": [
        {
          "output_type": "execute_result",
          "data": {
            "text/plain": [
              "'ABCDEFGHIJKLMNOPQRSTUVWXYZ'"
            ],
            "application/vnd.google.colaboratory.intrinsic+json": {
              "type": "string"
            }
          },
          "metadata": {},
          "execution_count": 27
        }
      ]
    },
    {
      "cell_type": "code",
      "source": [
        "words = input().upper()\n",
        "unique_words = list(set(words))  # 입력받은 문자열에서 중복값을 제거\n",
        "\n",
        "cnt_list = []\n",
        "for x in unique_words :\n",
        "    cnt = words.count(x)\n",
        "    cnt_list.append(cnt)  # count 숫자를 리스트에 append\n",
        "\n",
        "if cnt_list.count(max(cnt_list)) > 1 :  # count 숫자 최대값이 중복되면\n",
        "    print('?')\n",
        "else :\n",
        "    max_index = cnt_list.index(max(cnt_list))  # count 숫자 최대값 인덱스(위치)\n",
        "    print(unique_words[max_index])"
      ],
      "metadata": {
        "colab": {
          "base_uri": "https://localhost:8080/"
        },
        "id": "1V0708TtDM6f",
        "outputId": "ffc20bf4-9ac6-4efd-a05c-1d06f79e2024"
      },
      "execution_count": 1,
      "outputs": [
        {
          "output_type": "stream",
          "name": "stdout",
          "text": [
            "mississipi\n",
            "?\n"
          ]
        }
      ]
    },
    {
      "cell_type": "markdown",
      "source": [
        "## 6\n",
        "\n",
        "영어 대소문자와 공백으로 이루어진 문자열이 주어진다. 이 문자열에는 몇 개의 단어가 있을까? 이를 구하는 프로그램을 작성하시오. 단, 한 단어가 여러 번 등장하면 등장한 횟수만큼 모두 세어야 한다."
      ],
      "metadata": {
        "id": "gToLdT89ExPx"
      }
    },
    {
      "cell_type": "code",
      "source": [
        "sentence = input().split() #띄어쓰기 별로 단어 자르기\n",
        "print(len(sentence))"
      ],
      "metadata": {
        "id": "aY-27O1pEk0d",
        "colab": {
          "base_uri": "https://localhost:8080/"
        },
        "outputId": "ac51d9cd-e3f2-4558-9b8f-e246724f8b5c"
      },
      "execution_count": 2,
      "outputs": [
        {
          "name": "stdout",
          "output_type": "stream",
          "text": [
            "The Curious Case of Benjamin Button\n"
          ]
        },
        {
          "output_type": "execute_result",
          "data": {
            "text/plain": [
              "6"
            ]
          },
          "metadata": {},
          "execution_count": 2
        }
      ]
    },
    {
      "cell_type": "markdown",
      "source": [
        "## 7\n",
        "\n",
        "상근이의 동생 상수는 수학을 정말 못한다. 상수는 숫자를 읽는데 문제가 있다. 이렇게 수학을 못하는 상수를 위해서 상근이는 수의 크기를 비교하는 문제를 내주었다. 상근이는 세 자리 수 두 개를 칠판에 써주었다. 그 다음에 크기가 큰 수를 말해보라고 했다.\n",
        "\n",
        "상수는 수를 다른 사람과 다르게 거꾸로 읽는다. 예를 들어, 734와 893을 칠판에 적었다면, 상수는 이 수를 437과 398로 읽는다. 따라서, 상수는 두 수중 큰 수인 437을 큰 수라고 말할 것이다.\n",
        "\n",
        "두 수가 주어졌을 때, 상수의 대답을 출력하는 프로그램을 작성하시오."
      ],
      "metadata": {
        "id": "AIe2Iu_0g_LJ"
      }
    },
    {
      "cell_type": "code",
      "source": [
        "a,b=map(int, input().split())\n",
        "newa=(a//100)+((a%100)//10*10)+((a%10)*100)\n",
        "newb=(b//100)+((b%100)//10*10)+((b%10)*100)\n",
        "print(max(newa,newb))"
      ],
      "metadata": {
        "colab": {
          "base_uri": "https://localhost:8080/"
        },
        "id": "5MQtQ5Tjg6s8",
        "outputId": "09f5bd52-dd3b-456f-ba9a-d672c4e1de4e"
      },
      "execution_count": 5,
      "outputs": [
        {
          "output_type": "stream",
          "name": "stdout",
          "text": [
            "734 893\n",
            "437\n"
          ]
        }
      ]
    },
    {
      "cell_type": "markdown",
      "source": [
        "## 8 **"
      ],
      "metadata": {
        "id": "HgfTEm8ikCog"
      }
    },
    {
      "cell_type": "code",
      "source": [
        "alpabet_list = ['ABC','DEF','GHI','JKL','MNO','PQRS','TUV','WXYZ'] #숫자밑에 써진 알파벳\n",
        "word = input()\n",
        "\n",
        "time = 0\n",
        "for unit in alpabet_list :  \n",
        "    for i in unit:  # alpabet 리스트에서 각 요소를 꺼내서 한글자씩 분리\n",
        "        for x in word :  # 입력받은 문자를 하나씩 분리\n",
        "            if i == x :  # 두 알파벳이 같으면\n",
        "                time += alpabet_list.index(unit) +3  # time = time + index +3\n",
        "print(time)"
      ],
      "metadata": {
        "colab": {
          "base_uri": "https://localhost:8080/"
        },
        "id": "WTV80ZX2j0o7",
        "outputId": "00aa87b0-d7e1-4224-8585-eaec31206bec"
      },
      "execution_count": 6,
      "outputs": [
        {
          "output_type": "stream",
          "name": "stdout",
          "text": [
            "WA\n",
            "13\n"
          ]
        }
      ]
    },
    {
      "cell_type": "markdown",
      "source": [
        "## 9**"
      ],
      "metadata": {
        "id": "npuxja_5-oIc"
      }
    },
    {
      "cell_type": "code",
      "source": [
        "croatia = ['c=', 'c-', 'dz=', 'd-', 'lj', 'nj', 's=', 'z=']\n",
        "word = input()\n",
        "\n",
        "for i in croatia:\n",
        "  word = word.replace(i, '*') #croatia에 포함된 문자들을 '*'(한개로) 바꿔주기\n",
        "print(len(word))"
      ],
      "metadata": {
        "colab": {
          "base_uri": "https://localhost:8080/"
        },
        "id": "itWexThC_MyZ",
        "outputId": "2caf7638-6db2-498e-cb20-bdddc0252856"
      },
      "execution_count": 7,
      "outputs": [
        {
          "output_type": "stream",
          "name": "stdout",
          "text": [
            "ljes=njak\n",
            "6\n"
          ]
        }
      ]
    },
    {
      "cell_type": "markdown",
      "source": [
        "## 10\n",
        "그룹 단어란 단어에 존재하는 모든 문자에 대해서, 각 문자가 연속해서 나타나는 경우만을 말한다. 예를 들면, ccazzzzbb는 c, a, z, b가 모두 연속해서 나타나고, kin도 k, i, n이 연속해서 나타나기 때문에 그룹 단어이지만, aabbbccb는 b가 떨어져서 나타나기 때문에 그룹 단어가 아니다.\n",
        "\n",
        "단어 N개를 입력으로 받아 그룹 단어의 개수를 출력하는 프로그램을 작성하시오."
      ],
      "metadata": {
        "id": "sG1mJUt__zZ4"
      }
    },
    {
      "cell_type": "code",
      "source": [
        "n = int(input())\n",
        "\n",
        "group_word = 0\n",
        "for _ in range(n):\n",
        "    word = input()\n",
        "    error = 0\n",
        "    for index in range(len(word)-1):  # 인덱스 범위 생성 : 0부터 단어개수 -1까지 \n",
        "        if word[index] != word[index+1]:  # 연달은 두 문자가 다른 때,\n",
        "            new_word = word[index+1:]  # 현재글자 이후 문자열을 새로운 단어로 생성\n",
        "            if new_word.count(word[index]) > 0:  # 남은 문자열에서 현재글자가 있있다면\n",
        "                error += 1  # error에 1씩 증가.\n",
        "    if error == 0:  \n",
        "        group_word += 1  # error가 0이면 그룹단어\n",
        "print(group_word)"
      ],
      "metadata": {
        "colab": {
          "base_uri": "https://localhost:8080/"
        },
        "id": "5kSSg6_rAE3o",
        "outputId": "a576e907-a6ef-4acf-a202-75bae8533365"
      },
      "execution_count": 8,
      "outputs": [
        {
          "output_type": "stream",
          "name": "stdout",
          "text": [
            "3\n",
            "happy\n",
            "new\n",
            "year\n",
            "3\n"
          ]
        }
      ]
    }
  ]
}