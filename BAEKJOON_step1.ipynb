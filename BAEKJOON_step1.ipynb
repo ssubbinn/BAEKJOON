{
  "nbformat": 4,
  "nbformat_minor": 0,
  "metadata": {
    "colab": {
      "provenance": [],
      "authorship_tag": "ABX9TyM3tloDXCf97nClPX6SZr0a",
      "include_colab_link": true
    },
    "kernelspec": {
      "name": "python3",
      "display_name": "Python 3"
    },
    "language_info": {
      "name": "python"
    }
  },
  "cells": [
    {
      "cell_type": "markdown",
      "metadata": {
        "id": "view-in-github",
        "colab_type": "text"
      },
      "source": [
        "<a href=\"https://colab.research.google.com/github/ssubbinn/BAEKJOON/blob/main/BAEKJOON_step1.ipynb\" target=\"_parent\"><img src=\"https://colab.research.google.com/assets/colab-badge.svg\" alt=\"Open In Colab\"/></a>"
      ]
    },
    {
      "cell_type": "markdown",
      "source": [
        "## 1"
      ],
      "metadata": {
        "id": "0_UPFoP16vO_"
      }
    },
    {
      "cell_type": "code",
      "source": [
        "print(\"Hello World!\")"
      ],
      "metadata": {
        "colab": {
          "base_uri": "https://localhost:8080/"
        },
        "id": "pXb-sMYZ7CMU",
        "outputId": "7089fb85-3a8d-4a30-9ca8-04c5455ad25d"
      },
      "execution_count": 2,
      "outputs": [
        {
          "output_type": "stream",
          "name": "stdout",
          "text": [
            "Hello World!\n"
          ]
        }
      ]
    },
    {
      "cell_type": "markdown",
      "source": [
        "## 2\n",
        "\n",
        "두 정수 A와 B를 입력받은 다음, A+B를 출력하는 프로그램을 작성하시오."
      ],
      "metadata": {
        "id": "eGswfaBj78j6"
      }
    },
    {
      "cell_type": "code",
      "source": [
        "a, b = map(int, input().split())\n",
        "print(a+b)"
      ],
      "metadata": {
        "colab": {
          "base_uri": "https://localhost:8080/"
        },
        "id": "PdSTd32F7oEX",
        "outputId": "daa7ae70-f7db-4f7e-da58-c7074efb8e15"
      },
      "execution_count": 4,
      "outputs": [
        {
          "output_type": "stream",
          "name": "stdout",
          "text": [
            "1 2\n",
            "3\n"
          ]
        }
      ]
    },
    {
      "cell_type": "markdown",
      "source": [
        "- map(function, iterable) -> 매개 변수 함수, 반복 가능한 자료형(리스트, 튜플) \n",
        "- input().split() -> 입력값을 2개 이상으로 구분해줌"
      ],
      "metadata": {
        "id": "nVBSB50X16zN"
      }
    },
    {
      "cell_type": "markdown",
      "source": [
        "## 3\n",
        "\n",
        "두 정수 A와 B를 입력받은 다음, A-B를 출력하는 프로그램을 작성하시오."
      ],
      "metadata": {
        "id": "tYHVX9J221ti"
      }
    },
    {
      "cell_type": "code",
      "source": [
        "a, b = map(int, input().split())\n",
        "print(a-b)"
      ],
      "metadata": {
        "colab": {
          "base_uri": "https://localhost:8080/"
        },
        "id": "RnrxzFkI3YSw",
        "outputId": "2d146a3e-7aca-44c5-9595-f201439e6793"
      },
      "execution_count": 1,
      "outputs": [
        {
          "output_type": "stream",
          "name": "stdout",
          "text": [
            "3 2\n",
            "1\n"
          ]
        }
      ]
    },
    {
      "cell_type": "markdown",
      "source": [
        "## 4\n",
        "\n",
        "두 정수 A와 B를 입력받은 다음, A×B를 출력하는 프로그램을 작성하시오."
      ],
      "metadata": {
        "id": "D6kCPwE53sTx"
      }
    },
    {
      "cell_type": "code",
      "source": [
        "a, b = map(int, input().split())\n",
        "print(a*b)"
      ],
      "metadata": {
        "colab": {
          "base_uri": "https://localhost:8080/"
        },
        "id": "-FeFLf8u3ee_",
        "outputId": "e96b5a7b-7e94-4cc6-b9d3-313c1cc9df32"
      },
      "execution_count": 2,
      "outputs": [
        {
          "output_type": "stream",
          "name": "stdout",
          "text": [
            "1 2\n",
            "2\n"
          ]
        }
      ]
    },
    {
      "cell_type": "markdown",
      "source": [
        "## 5\n",
        "\n",
        "두 정수 A와 B를 입력받은 다음, A/B를 출력하는 프로그램을 작성하시오."
      ],
      "metadata": {
        "id": "R0ES0B2s38yl"
      }
    },
    {
      "cell_type": "code",
      "source": [
        "a, b = map(int, input().split())\n",
        "print(a/b)"
      ],
      "metadata": {
        "colab": {
          "base_uri": "https://localhost:8080/"
        },
        "id": "wRt71_vy4GZj",
        "outputId": "683b3609-0ec9-4541-8296-e35df97191ef"
      },
      "execution_count": 3,
      "outputs": [
        {
          "output_type": "stream",
          "name": "stdout",
          "text": [
            "1 3\n",
            "0.3333333333333333\n"
          ]
        }
      ]
    },
    {
      "cell_type": "markdown",
      "source": [
        "## 6\n",
        "\n",
        "두 자연수 A와 B가 주어진다. 이때, A+B, A-B, A*B, A/B(몫), A%B(나머지)를 출력하는 프로그램을 작성하시오. "
      ],
      "metadata": {
        "id": "pBeUFlNm4NLq"
      }
    },
    {
      "cell_type": "code",
      "source": [
        "a, b = map(int, input().split())\n",
        "print(a+b)\n",
        "print(a-b)\n",
        "print(a*b)\n",
        "print(int(a/b))\n",
        "print(a%b)"
      ],
      "metadata": {
        "colab": {
          "base_uri": "https://localhost:8080/"
        },
        "id": "mwZ3Pncc4UxG",
        "outputId": "974a5df5-cd35-4e17-a2b9-5949e9e06a75"
      },
      "execution_count": 5,
      "outputs": [
        {
          "output_type": "stream",
          "name": "stdout",
          "text": [
            "7 3\n",
            "10\n",
            "4\n",
            "21\n",
            "2\n",
            "1\n"
          ]
        }
      ]
    },
    {
      "cell_type": "markdown",
      "source": [
        "## 7\n",
        "\n",
        "준하는 사이트에 회원가입을 하다가 joonas라는 아이디가 이미 존재하는 것을 보고 놀랐다. 준하는 놀람을 ??!로 표현한다. 준하가 가입하려고 하는 사이트에 이미 존재하는 아이디가 주어졌을 때, 놀람을 표현하는 프로그램을 작성하시오."
      ],
      "metadata": {
        "id": "7gq5Z67G4ezC"
      }
    },
    {
      "cell_type": "code",
      "source": [
        "id = input(\"\")\n",
        "print(id+\"??!\")"
      ],
      "metadata": {
        "colab": {
          "base_uri": "https://localhost:8080/"
        },
        "id": "ukag1R4D4agT",
        "outputId": "28fd6235-c80f-479e-f860-255250059528"
      },
      "execution_count": 6,
      "outputs": [
        {
          "output_type": "stream",
          "name": "stdout",
          "text": [
            "joonas\n",
            "joonas??!\n"
          ]
        }
      ]
    },
    {
      "cell_type": "markdown",
      "source": [
        "## 8\n",
        "\n",
        "ICPC Bangkok Regional에 참가하기 위해 수완나품 국제공항에 막 도착한 팀 레드시프트 일행은 눈을 믿을 수 없었다. 공항의 대형 스크린에 올해가 2562년이라고 적혀 있던 것이었다.\n",
        "\n",
        "불교 국가인 태국은 불멸기원(佛滅紀元), 즉 석가모니가 열반한 해를 기준으로 연도를 세는 불기를 사용한다. 반면, 우리나라는 서기 연도를 사용하고 있다. 불기 연도가 주어질 때 이를 서기 연도로 바꿔 주는 프로그램을 작성하시오."
      ],
      "metadata": {
        "id": "_oJuQ7gf5g6o"
      }
    },
    {
      "cell_type": "code",
      "source": [
        "year = input()\n",
        "print(int(year)-543)"
      ],
      "metadata": {
        "colab": {
          "base_uri": "https://localhost:8080/"
        },
        "id": "UTkyBFq-5bwY",
        "outputId": "89d214c8-731c-45b2-9467-ca711dfc2498"
      },
      "execution_count": 13,
      "outputs": [
        {
          "output_type": "stream",
          "name": "stdout",
          "text": [
            "2541\n",
            "1998\n"
          ]
        }
      ]
    },
    {
      "cell_type": "markdown",
      "source": [
        "## 9\n",
        "\n",
        "동혁이는 오래된 창고를 뒤지다가 낡은 체스판과 피스를 발견했다.\n",
        "\n",
        "체스판의 먼지를 털어내고 걸레로 닦으니 그럭저럭 쓸만한 체스판이 되었다. 하지만, 검정색 피스는 모두 있었으나, 흰색 피스는 개수가 올바르지 않았다.\n",
        "\n",
        "체스는 총 16개의 피스를 사용하며, 킹 1개, 퀸 1개, 룩 2개, 비숍 2개, 나이트 2개, 폰 8개로 구성되어 있다.\n",
        "\n",
        "동혁이가 발견한 흰색 피스의 개수가 주어졌을 때, 몇 개를 더하거나 빼야 올바른 세트가 되는지 구하는 프로그램을 작성하시오."
      ],
      "metadata": {
        "id": "38XP6XF16Vx0"
      }
    },
    {
      "cell_type": "code",
      "source": [
        "a=list(map(int, input().split()))\n",
        "chess = [1, 1, 2, 2, 2, 8]\n",
        "for i in range(6):\n",
        "  print (chess[i]-a[i])"
      ],
      "metadata": {
        "colab": {
          "base_uri": "https://localhost:8080/"
        },
        "id": "y3aYYkMp5waS",
        "outputId": "9e5afd61-8170-4802-c0e3-8eb634310f90"
      },
      "execution_count": 18,
      "outputs": [
        {
          "output_type": "stream",
          "name": "stdout",
          "text": [
            "0 1 2 2 2 7\n",
            "1\n",
            "0\n",
            "0\n",
            "0\n",
            "0\n",
            "1\n"
          ]
        }
      ]
    },
    {
      "cell_type": "markdown",
      "source": [
        "## 10\n",
        "\n",
        "(A+B)%C는 ((A%C) + (B%C))%C 와 같을까?\n",
        "\n",
        "(A×B)%C는 ((A%C) × (B%C))%C 와 같을까?\n",
        "\n",
        "세 수 A, B, C가 주어졌을 때, 위의 네 가지 값을 구하는 프로그램을 작성하시오."
      ],
      "metadata": {
        "id": "9OWKSSCw9cLg"
      }
    },
    {
      "cell_type": "code",
      "source": [
        "A, B, C = map(int, input().split())\n",
        "print((A+B)%C)\n",
        "print(((A%C) + (B%C))%C)\n",
        "print((A*B)%C)\n",
        "print(((A%C) * (B%C))%C)\n",
        "#같음"
      ],
      "metadata": {
        "colab": {
          "base_uri": "https://localhost:8080/"
        },
        "id": "1Xhcmoqy83Lz",
        "outputId": "18b1db7b-b902-4781-9a5f-9769f3d11cae"
      },
      "execution_count": 20,
      "outputs": [
        {
          "output_type": "stream",
          "name": "stdout",
          "text": [
            "5 8 4\n",
            "1\n",
            "1\n",
            "0\n",
            "0\n"
          ]
        }
      ]
    },
    {
      "cell_type": "markdown",
      "source": [
        "## 11"
      ],
      "metadata": {
        "id": "vRl6Og72-GF4"
      }
    },
    {
      "cell_type": "code",
      "source": [
        "a = int(input())\n",
        "b = int(input())\n",
        "\n",
        "print(a * (b % 10))\n",
        "print(a * ((b % 100) // 10))\n",
        "print(a * (b // 100))\n",
        "print(a * b)"
      ],
      "metadata": {
        "colab": {
          "base_uri": "https://localhost:8080/"
        },
        "id": "edsUmNum-c8F",
        "outputId": "8f4dffe9-d6a0-48d0-b868-fe9a197aecd2"
      },
      "execution_count": 21,
      "outputs": [
        {
          "output_type": "stream",
          "name": "stdout",
          "text": [
            "472\n",
            "385\n",
            "2360\n",
            "3776\n",
            "1416\n",
            "181720\n"
          ]
        }
      ]
    },
    {
      "cell_type": "markdown",
      "source": [
        "## 12\n",
        "\n",
        "고양이 출력"
      ],
      "metadata": {
        "id": "AiIds84o-jZC"
      }
    },
    {
      "cell_type": "code",
      "source": [
        "print(\"\\\\    /\\\\\")\n",
        "print(\" )  ( ')\")\n",
        "print(\"(  /  )\")\n",
        "print(\" \\\\(__)|\")"
      ],
      "metadata": {
        "colab": {
          "base_uri": "https://localhost:8080/"
        },
        "id": "HtxyuVnu-ohn",
        "outputId": "f833ca03-c4b1-4e9c-d09b-f4cf4f0f674b"
      },
      "execution_count": 33,
      "outputs": [
        {
          "output_type": "stream",
          "name": "stdout",
          "text": [
            "\\    /\\\n",
            " )  ( ')\n",
            "(  /  )\n",
            " \\(__)|\n"
          ]
        }
      ]
    },
    {
      "cell_type": "markdown",
      "source": [
        "## 13"
      ],
      "metadata": {
        "id": "3s8Ki2ptA3nn"
      }
    },
    {
      "cell_type": "code",
      "source": [
        "print(\"|\\_/|\")\n",
        "print(\"|q p|   /}\")\n",
        "print('( 0 )\"\"\"\\\\')  \n",
        "print('|\"^\"`    |')\n",
        "print(\"||_/=\\\\\\__|\") "
      ],
      "metadata": {
        "colab": {
          "base_uri": "https://localhost:8080/"
        },
        "id": "65_W1Loc-wIu",
        "outputId": "f55490c4-a670-4571-debd-c87bdfb988bb"
      },
      "execution_count": 34,
      "outputs": [
        {
          "output_type": "stream",
          "name": "stdout",
          "text": [
            "|\\_/|\n",
            "|q p|   /}\n",
            "( 0 )\"\"\"\\\n",
            "|\"^\"`    |\n",
            "||_/=\\\\__|\n"
          ]
        }
      ]
    },
    {
      "cell_type": "markdown",
      "source": [
        "## 14"
      ],
      "metadata": {
        "id": "6OjYEE2JBFv-"
      }
    },
    {
      "cell_type": "code",
      "source": [
        "print(\"         ,r'\\\"7\")\n",
        "print(\"r`-_   ,'  ,/\")\n",
        "print(\" \\\\. \\\". L_r'\")\n",
        "print(\"   `~\\\\/\")\n",
        "print(\"      |\")\n",
        "print(\"      |\")"
      ],
      "metadata": {
        "colab": {
          "base_uri": "https://localhost:8080/"
        },
        "id": "6KbTcUPSBGyb",
        "outputId": "d1392c46-6d7b-4ae1-9910-a27efec70d74"
      },
      "execution_count": 35,
      "outputs": [
        {
          "output_type": "stream",
          "name": "stdout",
          "text": [
            "         ,r'\"7\n",
            "r`-_   ,'  ,/\n",
            " \\. \". L_r'\n",
            "   `~\\/\n",
            "      |\n",
            "      |\n"
          ]
        }
      ]
    }
  ]
}